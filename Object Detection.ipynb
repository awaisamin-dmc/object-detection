{
 "cells": [
  {
   "cell_type": "markdown",
   "id": "1434c835",
   "metadata": {},
   "source": [
    "# Object Detecion using IP Camera"
   ]
  },
  {
   "cell_type": "markdown",
   "id": "8abd16a8",
   "metadata": {},
   "source": [
    "### Importing Basic Libraries"
   ]
  },
  {
   "cell_type": "code",
   "execution_count": 1,
   "id": "99d8bb50",
   "metadata": {},
   "outputs": [],
   "source": [
    "import cv2\n",
    "import numpy as np"
   ]
  },
  {
   "cell_type": "markdown",
   "id": "9baf435e",
   "metadata": {},
   "source": [
    "### Reading Image files and WebCam"
   ]
  },
  {
   "cell_type": "code",
   "execution_count": 2,
   "id": "2f10269a",
   "metadata": {},
   "outputs": [
    {
     "data": {
      "text/plain": [
       "False"
      ]
     },
     "execution_count": 2,
     "metadata": {},
     "output_type": "execute_result"
    }
   ],
   "source": [
    "#  img = cv2.imread('lana.png')\n",
    "# cap = cv2.VideoCapture('add your streaming link)\n",
    "cap = cv2.VideoCapture(0)\n",
    "cap.set(3, 1280)\n",
    "cap.set(4, 720)\n",
    "cap.set(10, 150)"
   ]
  },
  {
   "cell_type": "markdown",
   "id": "992bdfc1",
   "metadata": {},
   "source": [
    "### Setting Threshold"
   ]
  },
  {
   "cell_type": "code",
   "execution_count": 3,
   "id": "95a38929",
   "metadata": {},
   "outputs": [],
   "source": [
    "thres = 0.35\n",
    "nms_threshold = 0.2"
   ]
  },
  {
   "cell_type": "markdown",
   "id": "4e20cc4b",
   "metadata": {},
   "source": [
    "### Reading Objects Names for Coco dataset"
   ]
  },
  {
   "cell_type": "code",
   "execution_count": 4,
   "id": "44838b8a",
   "metadata": {
    "scrolled": true
   },
   "outputs": [],
   "source": [
    "# writing the classes names\n",
    "classNames = []\n",
    "#Reading the Coco File\n",
    "classFile = 'coco.names'\n",
    "# reading the names from file\n",
    "with open(classFile, 'rt') as f:\n",
    "    # spliting the names on the basis of line break\n",
    "    classNames = f.read().rstrip('\\n').split('\\n')\n",
    "# print(classNames)"
   ]
  },
  {
   "cell_type": "markdown",
   "id": "72e8aefb",
   "metadata": {},
   "source": [
    "### Importing Mobile SSD Model"
   ]
  },
  {
   "cell_type": "code",
   "execution_count": 5,
   "id": "25c0a21e",
   "metadata": {},
   "outputs": [],
   "source": [
    "# Importing the Mobile SSD Model\n",
    "configPath = 'ssd_mobilenet_v3_large_coco_2020_01_14.pbtxt'\n",
    "weightsPath =  'frozen_inference_graph.pb'"
   ]
  },
  {
   "cell_type": "markdown",
   "id": "8040f06c",
   "metadata": {},
   "source": [
    "### Adding Detection Model and Defining Parameters"
   ]
  },
  {
   "cell_type": "code",
   "execution_count": 6,
   "id": "7a5dc24e",
   "metadata": {},
   "outputs": [
    {
     "data": {
      "text/plain": [
       "< cv2.dnn.Model 0000025D000ABB10>"
      ]
     },
     "execution_count": 6,
     "metadata": {},
     "output_type": "execute_result"
    }
   ],
   "source": [
    "# adding DNN Detection Model\n",
    "net = cv2.dnn_DetectionModel(weightsPath, configPath)\n",
    "net.setInputSize(320, 320)\n",
    "net.setInputScale(1.0/ 127.5)\n",
    "net.setInputMean((127.5, 127.5, 127.5))\n",
    "net.setInputSwapRB(True)"
   ]
  },
  {
   "cell_type": "markdown",
   "id": "2256fae9",
   "metadata": {},
   "source": [
    "### Finally Reading the Webcam and predicting"
   ]
  },
  {
   "cell_type": "code",
   "execution_count": 7,
   "id": "5800f078",
   "metadata": {},
   "outputs": [],
   "source": [
    "while True:\n",
    "    success, img = cap.read()\n",
    "    img = cv2.resize(img, (1360, 768))\n",
    "    #Assigning the class ids\n",
    "    classIds, confs, bbox = net.detect(img, confThreshold = thres)\n",
    "    #converting bounding box datatype\n",
    "#     bbox = list(bbox)\n",
    "    # Reshaping the list of confidence value\n",
    "#     confs = list(np.array(confs).reshape(1, -1)[0])\n",
    "#     confs = list(map(float, confs))\n",
    "#     print(type(bbox))\n",
    "#     print(bbox)\n",
    "    #adding Non Maxium Speration Function\n",
    "#     indices = cv2.dnn.NMSBoxes(bbox , confs, thres, nms_threshold )\n",
    "#     for i in indices:\n",
    "#         i = i[0]\n",
    "#         box = bbox[i]\n",
    "#         x, y, w, h = box[0], box[1], box[2], box[3]\n",
    "#         cv2.rectangle(img, (x, y),(x+w, h+y),  color = (0, 255, 0), thickness =2)\n",
    "#         cv2.putText(img, classNames[classIds[i][0]].upper(), (box[0]+10, box[1]-5),\n",
    "#                    cv2.FONT_HERSHEY_COMPLEX, 0.5, (0, 255, 0), 2)\n",
    "    \n",
    "    \n",
    "    # Defining the class ids and their bounding box\n",
    "    if len(classIds) != 0:\n",
    "\n",
    "        for classId, confidence, box in zip(classIds.flatten(), confs.flatten(), bbox):\n",
    "            # drawing a ractange around them\n",
    "            cv2.rectangle(img, box, color = (0, 255, 0), thickness = 2)\n",
    "            # Writting the Text on the top\n",
    "            cv2.putText(img, classNames[classId-1].upper(), (box[0]+10, box[1]-5),\n",
    "                       cv2.FONT_HERSHEY_COMPLEX, 0.5, (0, 255, 0))\n",
    "            cv2.putText(img, str(round(confidence*100, 2)) +\"%\", (box[0]+100, box[1]-5),\n",
    "                       cv2.FONT_HERSHEY_COMPLEX, 0.5, (0, 255, 0))\n",
    "    # Display the resulting Image\n",
    "#     img = cv2.resize(img, (1360, 768))\n",
    "    cv2.imshow(\"Basic Model\", img)\n",
    "    # For quiting the view\n",
    "    if cv2.waitKey(1) & 0xFF == ord('q'):\n",
    "        break\n",
    "#     print(classIds, bbox)\n",
    "# Release handle to the webcam\n",
    "cv2.destroyAllWindows()"
   ]
  },
  {
   "cell_type": "markdown",
   "id": "37cfcb88",
   "metadata": {},
   "source": [
    "### End of Notebook"
   ]
  }
 ],
 "metadata": {
  "kernelspec": {
   "display_name": "Python 3.10.4 64-bit",
   "language": "python",
   "name": "python3"
  },
  "language_info": {
   "codemirror_mode": {
    "name": "ipython",
    "version": 3
   },
   "file_extension": ".py",
   "mimetype": "text/x-python",
   "name": "python",
   "nbconvert_exporter": "python",
   "pygments_lexer": "ipython3",
   "version": "3.10.4"
  },
  "vscode": {
   "interpreter": {
    "hash": "57aed68b78f7c04d1fa6b1f051bb24e99a8a49b6528d7c5dee29ca955b472e8a"
   }
  }
 },
 "nbformat": 4,
 "nbformat_minor": 5
}
